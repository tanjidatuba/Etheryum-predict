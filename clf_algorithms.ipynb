{
 "cells": [
  {
   "cell_type": "code",
   "execution_count": 1,
   "id": "64f99a4a",
   "metadata": {},
   "outputs": [],
   "source": [
    "# pandas and numpy are used for data manipulation \n",
    "import pandas as pd \n",
    "import numpy as np \n",
    "# matplotlib and seaborn are used for plotting graphs \n",
    "import matplotlib.pyplot as plt \n",
    "import seaborn \n",
    "# fix_yahoo_finance is used to fetch data \n",
    "import yfinance as yf"
   ]
  },
  {
   "cell_type": "code",
   "execution_count": 2,
   "id": "d65e46bd",
   "metadata": {
    "scrolled": false
   },
   "outputs": [
    {
     "name": "stdout",
     "output_type": "stream",
     "text": [
      "[*********************100%***********************]  1 of 1 completed\n"
     ]
    },
    {
     "data": {
      "image/png": "[encoded data removed]",
      "text/plain": [
       "<Figure size 720x360 with 1 Axes>"
      ]
     },
     "metadata": {
      "needs_background": "light"
     },
     "output_type": "display_data"
    }
   ],
   "source": [
    "# Read data \n",
    "Df = yf.download('ETH-USD','2016-01-01','2022-03-31')\n",
    "# Only keep close columns \n",
    "#Df=Df[['Close']] \n",
    "# Drop rows with missing values \n",
    "Df= Df.dropna() \n",
    "# Plot the closing price of GLD \n",
    "Df.Close.plot(figsize=(10,5)) \n",
    "plt.ylabel(\"ETH-USD Prices\")\n",
    "plt.show()"
   ]
  },
  {
   "cell_type": "code",
   "execution_count": 3,
   "id": "3204db3e",
   "metadata": {},
   "outputs": [],
   "source": [
    "from sklearn.model_selection import train_test_split\n",
    "from sklearn.metrics import accuracy_score\n",
    "from sklearn.neighbors import KNeighborsClassifier\n",
    "Df[\"Diff\"] = Df.Close.diff()"
   ]
  },
  {
   "cell_type": "code",
   "execution_count": 4,
   "id": "fa248abe",
   "metadata": {
    "scrolled": true
   },
   "outputs": [
    {
     "data": {
      "text/html": [
       "<div>\n",
       "<style scoped>\n",
       "    .dataframe tbody tr th:only-of-type {\n",
       "        vertical-align: middle;\n",
       "    }\n",
       "\n",
       "    .dataframe tbody tr th {\n",
       "        vertical-align: top;\n",
       "    }\n",
       "\n",
       "    .dataframe thead th {\n",
       "        text-align: right;\n",
       "    }\n",
       "</style>\n",
       "<table border=\"1\" class=\"dataframe\">\n",
       "  <thead>\n",
       "    <tr style=\"text-align: right;\">\n",
       "      <th></th>\n",
       "      <th>Open</th>\n",
       "      <th>High</th>\n",
       "      <th>Low</th>\n",
       "      <th>Close</th>\n",
       "      <th>Adj Close</th>\n",
       "      <th>Volume</th>\n",
       "      <th>Diff</th>\n",
       "    </tr>\n",
       "    <tr>\n",
       "      <th>Date</th>\n",
       "      <th></th>\n",
       "      <th></th>\n",
       "      <th></th>\n",
       "      <th></th>\n",
       "      <th></th>\n",
       "      <th></th>\n",
       "      <th></th>\n",
       "    </tr>\n",
       "  </thead>\n",
       "  <tbody>\n",
       "    <tr>\n",
       "      <th>2022-03-27</th>\n",
       "      <td>3143.795654</td>\n",
       "      <td>3291.577637</td>\n",
       "      <td>3129.997803</td>\n",
       "      <td>3291.577637</td>\n",
       "      <td>3291.577637</td>\n",
       "      <td>13431866834</td>\n",
       "      <td>148.398682</td>\n",
       "    </tr>\n",
       "    <tr>\n",
       "      <th>2022-03-28</th>\n",
       "      <td>3292.322510</td>\n",
       "      <td>3424.019287</td>\n",
       "      <td>3279.027100</td>\n",
       "      <td>3336.634521</td>\n",
       "      <td>3336.634521</td>\n",
       "      <td>20620450770</td>\n",
       "      <td>45.056885</td>\n",
       "    </tr>\n",
       "    <tr>\n",
       "      <th>2022-03-29</th>\n",
       "      <td>3335.021240</td>\n",
       "      <td>3470.186279</td>\n",
       "      <td>3335.021240</td>\n",
       "      <td>3401.987793</td>\n",
       "      <td>3401.987793</td>\n",
       "      <td>19533323636</td>\n",
       "      <td>65.353271</td>\n",
       "    </tr>\n",
       "    <tr>\n",
       "      <th>2022-03-30</th>\n",
       "      <td>3401.526123</td>\n",
       "      <td>3435.286133</td>\n",
       "      <td>3349.237061</td>\n",
       "      <td>3385.157959</td>\n",
       "      <td>3385.157959</td>\n",
       "      <td>15302506131</td>\n",
       "      <td>-16.829834</td>\n",
       "    </tr>\n",
       "    <tr>\n",
       "      <th>2022-03-31</th>\n",
       "      <td>3385.289307</td>\n",
       "      <td>3435.128418</td>\n",
       "      <td>3272.934570</td>\n",
       "      <td>3281.642822</td>\n",
       "      <td>3281.642822</td>\n",
       "      <td>17685495686</td>\n",
       "      <td>-103.515137</td>\n",
       "    </tr>\n",
       "  </tbody>\n",
       "</table>\n",
       "</div>"
      ],
      "text/plain": [
       "                   Open         High          Low        Close    Adj Close  \\\n",
       "Date                                                                          \n",
       "2022-03-27  3143.795654  3291.577637  3129.997803  3291.577637  3291.577637   \n",
       "2022-03-28  3292.322510  3424.019287  3279.027100  3336.634521  3336.634521   \n",
       "2022-03-29  3335.021240  3470.186279  3335.021240  3401.987793  3401.987793   \n",
       "2022-03-30  3401.526123  3435.286133  3349.237061  3385.157959  3385.157959   \n",
       "2022-03-31  3385.289307  3435.128418  3272.934570  3281.642822  3281.642822   \n",
       "\n",
       "                 Volume        Diff  \n",
       "Date                                 \n",
       "2022-03-27  13431866834  148.398682  \n",
       "2022-03-28  20620450770   45.056885  \n",
       "2022-03-29  19533323636   65.353271  \n",
       "2022-03-30  15302506131  -16.829834  \n",
       "2022-03-31  17685495686 -103.515137  "
      ]
     },
     "execution_count": 4,
     "metadata": {},
     "output_type": "execute_result"
    }
   ],
   "source": [
    "Df.tail()"
   ]
  },
  {
   "cell_type": "code",
   "execution_count": 5,
   "id": "972cfbee",
   "metadata": {},
   "outputs": [],
   "source": [
    "Df[\"Volatility\"] = Df.Close.rolling(2).mean()\n",
    "Df[\"Force_Index\"] = Df[\"Close\"] * Df[\"Volume\"]"
   ]
  },
  {
   "cell_type": "code",
   "execution_count": 6,
   "id": "8b920919",
   "metadata": {},
   "outputs": [],
   "source": [
    "Df[\"y\"] = Df[\"Diff\"].apply(lambda x: 1 if x > 0 else 0).shift(-1)"
   ]
  },
  {
   "cell_type": "code",
   "execution_count": 7,
   "id": "dbe8a4a0",
   "metadata": {},
   "outputs": [],
   "source": [
    "Df = Df.drop(\n",
    "   [\"Open\", \"High\", \"Low\", \"Close\", \"Volume\", \"Diff\", \"Adj Close\"],\n",
    "   axis=1,\n",
    ").dropna()"
   ]
  },
  {
   "cell_type": "code",
   "execution_count": 8,
   "id": "528ecc3f",
   "metadata": {},
   "outputs": [
    {
     "data": {
      "text/html": [
       "<div>\n",
       "<style scoped>\n",
       "    .dataframe tbody tr th:only-of-type {\n",
       "        vertical-align: middle;\n",
       "    }\n",
       "\n",
       "    .dataframe tbody tr th {\n",
       "        vertical-align: top;\n",
       "    }\n",
       "\n",
       "    .dataframe thead th {\n",
       "        text-align: right;\n",
       "    }\n",
       "</style>\n",
       "<table border=\"1\" class=\"dataframe\">\n",
       "  <thead>\n",
       "    <tr style=\"text-align: right;\">\n",
       "      <th></th>\n",
       "      <th>Volatility</th>\n",
       "      <th>Force_Index</th>\n",
       "      <th>y</th>\n",
       "    </tr>\n",
       "    <tr>\n",
       "      <th>Date</th>\n",
       "      <th></th>\n",
       "      <th></th>\n",
       "      <th></th>\n",
       "    </tr>\n",
       "  </thead>\n",
       "  <tbody>\n",
       "    <tr>\n",
       "      <th>2017-11-10</th>\n",
       "      <td>310.068497</td>\n",
       "      <td>2.651340e+11</td>\n",
       "      <td>1.0</td>\n",
       "    </tr>\n",
       "    <tr>\n",
       "      <th>2017-11-11</th>\n",
       "      <td>306.966995</td>\n",
       "      <td>2.650561e+11</td>\n",
       "      <td>0.0</td>\n",
       "    </tr>\n",
       "    <tr>\n",
       "      <th>2017-11-12</th>\n",
       "      <td>311.294495</td>\n",
       "      <td>4.968034e+11</td>\n",
       "      <td>1.0</td>\n",
       "    </tr>\n",
       "    <tr>\n",
       "      <th>2017-11-13</th>\n",
       "      <td>312.311996</td>\n",
       "      <td>3.299832e+11</td>\n",
       "      <td>1.0</td>\n",
       "    </tr>\n",
       "    <tr>\n",
       "      <th>2017-11-14</th>\n",
       "      <td>327.173508</td>\n",
       "      <td>3.611571e+11</td>\n",
       "      <td>0.0</td>\n",
       "    </tr>\n",
       "    <tr>\n",
       "      <th>...</th>\n",
       "      <td>...</td>\n",
       "      <td>...</td>\n",
       "      <td>...</td>\n",
       "    </tr>\n",
       "    <tr>\n",
       "      <th>2022-03-26</th>\n",
       "      <td>3124.925171</td>\n",
       "      <td>2.790018e+13</td>\n",
       "      <td>1.0</td>\n",
       "    </tr>\n",
       "    <tr>\n",
       "      <th>2022-03-27</th>\n",
       "      <td>3217.378296</td>\n",
       "      <td>4.421203e+13</td>\n",
       "      <td>1.0</td>\n",
       "    </tr>\n",
       "    <tr>\n",
       "      <th>2022-03-28</th>\n",
       "      <td>3314.106079</td>\n",
       "      <td>6.880291e+13</td>\n",
       "      <td>1.0</td>\n",
       "    </tr>\n",
       "    <tr>\n",
       "      <th>2022-03-29</th>\n",
       "      <td>3369.311157</td>\n",
       "      <td>6.645213e+13</td>\n",
       "      <td>0.0</td>\n",
       "    </tr>\n",
       "    <tr>\n",
       "      <th>2022-03-30</th>\n",
       "      <td>3393.572876</td>\n",
       "      <td>5.180140e+13</td>\n",
       "      <td>0.0</td>\n",
       "    </tr>\n",
       "  </tbody>\n",
       "</table>\n",
       "<p>1602 rows × 3 columns</p>\n",
       "</div>"
      ],
      "text/plain": [
       "             Volatility   Force_Index    y\n",
       "Date                                      \n",
       "2017-11-10   310.068497  2.651340e+11  1.0\n",
       "2017-11-11   306.966995  2.650561e+11  0.0\n",
       "2017-11-12   311.294495  4.968034e+11  1.0\n",
       "2017-11-13   312.311996  3.299832e+11  1.0\n",
       "2017-11-14   327.173508  3.611571e+11  0.0\n",
       "...                 ...           ...  ...\n",
       "2022-03-26  3124.925171  2.790018e+13  1.0\n",
       "2022-03-27  3217.378296  4.421203e+13  1.0\n",
       "2022-03-28  3314.106079  6.880291e+13  1.0\n",
       "2022-03-29  3369.311157  6.645213e+13  0.0\n",
       "2022-03-30  3393.572876  5.180140e+13  0.0\n",
       "\n",
       "[1602 rows x 3 columns]"
      ]
     },
     "execution_count": 8,
     "metadata": {},
     "output_type": "execute_result"
    }
   ],
   "source": [
    "Df"
   ]
  },
  {
   "cell_type": "code",
   "execution_count": 9,
   "id": "79cd551d",
   "metadata": {},
   "outputs": [],
   "source": [
    "X = Df.drop([\"y\"], axis=1).values\n",
    "y = Df[\"y\"].values"
   ]
  },
  {
   "cell_type": "code",
   "execution_count": 10,
   "id": "86e9e36b",
   "metadata": {
    "scrolled": true
   },
   "outputs": [
    {
     "data": {
      "text/plain": [
       "array([1., 0., 1., ..., 1., 0., 0.])"
      ]
     },
     "execution_count": 10,
     "metadata": {},
     "output_type": "execute_result"
    }
   ],
   "source": [
    "y"
   ]
  },
  {
   "cell_type": "markdown",
   "id": "bb735b9a",
   "metadata": {},
   "source": [
    "# KNN CLF"
   ]
  },
  {
   "cell_type": "code",
   "execution_count": 52,
   "id": "50f44678",
   "metadata": {
    "scrolled": true
   },
   "outputs": [
    {
     "name": "stdout",
     "output_type": "stream",
     "text": [
      "accuracy score of KNN Classification 0.534972\n",
      "time required to run 0.03416319999996631\n"
     ]
    }
   ],
   "source": [
    "from timeit import default_timer as timer\n",
    "\n",
    "start = timer()\n",
    "\n",
    "X_train, X_test, y_train, y_test = train_test_split(\n",
    "   X,\n",
    "   y,\n",
    "   test_size=0.33,\n",
    "   shuffle=False,\n",
    ")\n",
    "knn = KNeighborsClassifier()\n",
    "knn.fit(\n",
    "   X_train,\n",
    "   y_train,\n",
    ")\n",
    "\n",
    "knn_pred = knn.predict(X_test)\n",
    "print('accuracy score of KNN Classification %3f' % (accuracy_score(y_test, knn_pred)))\n",
    "\n",
    "end = timer()\n",
    "\n",
    "print('time required to run',end-start)"
   ]
  },
  {
   "cell_type": "code",
   "execution_count": 12,
   "id": "1e1ec29d",
   "metadata": {},
   "outputs": [
    {
     "name": "stdout",
     "output_type": "stream",
     "text": [
      "KNN: ROC AUC=0.493\n"
     ]
    }
   ],
   "source": [
    "from sklearn.metrics import roc_curve\n",
    "from sklearn.metrics import roc_auc_score\n",
    "knn_auc = roc_auc_score(y_test,knn_pred)\n",
    "print('KNN: ROC AUC=%.3f' % (knn_auc))"
   ]
  },
  {
   "cell_type": "code",
   "execution_count": 13,
   "id": "05765360",
   "metadata": {},
   "outputs": [
    {
     "data": {
      "image/png": "[encoded data removed]",
      "text/plain": [
       "<Figure size 432x288 with 1 Axes>"
      ]
     },
     "metadata": {
      "needs_background": "light"
     },
     "output_type": "display_data"
    }
   ],
   "source": [
    "knn_fpr, knn_tpr, _ = roc_curve(y_test, knn_pred)\n",
    "plt.plot(knn_fpr, knn_tpr, linestyle='--', label = 'KNN')\n",
    "# axis labels\n",
    "plt.xlabel('False Positive Rate')\n",
    "plt.ylabel('True Positive Rate')\n",
    "# show the legend\n",
    "plt.legend()\n",
    "# show the plot\n",
    "plt.show()"
   ]
  },
  {
   "cell_type": "markdown",
   "id": "e1ef2320",
   "metadata": {},
   "source": [
    "# random Forest classifier"
   ]
  },
  {
   "cell_type": "code",
   "execution_count": 14,
   "id": "1e13af02",
   "metadata": {},
   "outputs": [],
   "source": [
    "from sklearn.ensemble import RandomForestClassifier"
   ]
  },
  {
   "cell_type": "code",
   "execution_count": 53,
   "id": "f38b7a53",
   "metadata": {},
   "outputs": [
    {
     "name": "stdout",
     "output_type": "stream",
     "text": [
      "accuracy score of Ranfom Forest Classification 0.476371\n",
      "time required 0.271232100000816\n"
     ]
    }
   ],
   "source": [
    "from timeit import default_timer as timer\n",
    "\n",
    "start = timer()\n",
    "\n",
    "clf = RandomForestClassifier()\n",
    "clf.fit(\n",
    "   X_train,\n",
    "   y_train,\n",
    ")\n",
    "rf_pred = clf.predict(X_test)\n",
    "\n",
    "\n",
    "print('accuracy score of Ranfom Forest Classification %3f' % (accuracy_score(y_test, rf_pred)))\n",
    "\n",
    "\n",
    "end = timer()\n",
    "\n",
    "print('time required',end-start)"
   ]
  },
  {
   "cell_type": "code",
   "execution_count": 16,
   "id": "a78f8376",
   "metadata": {},
   "outputs": [
    {
     "name": "stdout",
     "output_type": "stream",
     "text": [
      "Random Forest clf: ROC AUC=0.509\n"
     ]
    }
   ],
   "source": [
    "#ROC AUC\n",
    "\n",
    "from sklearn.metrics import roc_curve\n",
    "from sklearn.metrics import roc_auc_score\n",
    "rf_auc = roc_auc_score(y_test,rf_pred)\n",
    "print('Random Forest clf: ROC AUC=%.3f' % (rf_auc))\n",
    "\n",
    "rf_fpr, rf_tpr, _ = roc_curve(y_test, rf_pred)"
   ]
  },
  {
   "cell_type": "markdown",
   "id": "ce8a6112",
   "metadata": {},
   "source": [
    "# naive bayes"
   ]
  },
  {
   "cell_type": "code",
   "execution_count": 17,
   "id": "fa7eaae2",
   "metadata": {},
   "outputs": [],
   "source": [
    "from sklearn.naive_bayes import BernoulliNB\n"
   ]
  },
  {
   "cell_type": "code",
   "execution_count": 18,
   "id": "c654d9cd",
   "metadata": {},
   "outputs": [
    {
     "name": "stdout",
     "output_type": "stream",
     "text": [
      "accuracy score of Naive bayes clf  0.5482041587901701\n",
      "time required 0.004502199999999235\n"
     ]
    }
   ],
   "source": [
    "from timeit import default_timer as timer\n",
    "\n",
    "start = timer()\n",
    "\n",
    "clf = BernoulliNB()\n",
    "clf.fit(\n",
    "   X_train,\n",
    "   y_train,\n",
    ")\n",
    "NB_pred = clf.predict(X_test)\n",
    "\n",
    "\n",
    "print('accuracy score of Naive bayes clf ',accuracy_score(y_test, NB_pred))\n",
    "\n",
    "\n",
    "end = timer()\n",
    "\n",
    "print('time required',end-start)"
   ]
  },
  {
   "cell_type": "code",
   "execution_count": 19,
   "id": "83d40a1a",
   "metadata": {},
   "outputs": [
    {
     "name": "stdout",
     "output_type": "stream",
     "text": [
      "Naive Bayes clf: ROC AUC=0.500\n"
     ]
    }
   ],
   "source": [
    "NB_auc = roc_auc_score(y_test,NB_pred)\n",
    "print('Naive Bayes clf: ROC AUC=%.3f' % (NB_auc))\n",
    "\n",
    "NB_fpr, NB_tpr, _ = roc_curve(y_test, NB_pred)"
   ]
  },
  {
   "cell_type": "markdown",
   "id": "6409fd28",
   "metadata": {},
   "source": [
    "# SVM"
   ]
  },
  {
   "cell_type": "code",
   "execution_count": 20,
   "id": "b0440611",
   "metadata": {},
   "outputs": [],
   "source": [
    "from sklearn.svm import SVC\n",
    "from sklearn.preprocessing import StandardScaler\n",
    "from sklearn.pipeline import make_pipeline"
   ]
  },
  {
   "cell_type": "code",
   "execution_count": 21,
   "id": "3baf0cb3",
   "metadata": {},
   "outputs": [
    {
     "name": "stdout",
     "output_type": "stream",
     "text": [
      "0.45368620037807184\n",
      "time required 0.14530949999999976\n"
     ]
    }
   ],
   "source": [
    "start = timer()\n",
    "\n",
    "\n",
    "clf = make_pipeline(StandardScaler(), SVC(gamma=\"auto\"))\n",
    "clf.fit(\n",
    "   X_train,\n",
    "   y_train,\n",
    ")\n",
    "svm_pred = clf.predict(X_test)\n",
    "print(accuracy_score(y_test, svm_pred))\n",
    "\n",
    "\n",
    "end = timer()\n",
    "\n",
    "print('time required',end-start)"
   ]
  },
  {
   "cell_type": "code",
   "execution_count": 22,
   "id": "30b73354",
   "metadata": {},
   "outputs": [
    {
     "name": "stdout",
     "output_type": "stream",
     "text": [
      "Support Vector Machine: ROC AUC=0.494\n"
     ]
    }
   ],
   "source": [
    "svm_auc = roc_auc_score(y_test,svm_pred)\n",
    "print('Support Vector Machine: ROC AUC=%.3f' % (svm_auc))\n",
    "\n",
    "svm_fpr, svm_tpr, _ = roc_curve(y_test, svm_pred)"
   ]
  },
  {
   "cell_type": "markdown",
   "id": "5c13150e",
   "metadata": {},
   "source": [
    "# logistic regression\n"
   ]
  },
  {
   "cell_type": "code",
   "execution_count": 23,
   "id": "7e532bde",
   "metadata": {},
   "outputs": [],
   "source": [
    "from sklearn.linear_model import LogisticRegression"
   ]
  },
  {
   "cell_type": "code",
   "execution_count": 24,
   "id": "aff8595d",
   "metadata": {},
   "outputs": [
    {
     "name": "stdout",
     "output_type": "stream",
     "text": [
      "0.5482041587901701\n",
      "time required 0.01597770000000054\n"
     ]
    }
   ],
   "source": [
    "start = timer()\n",
    "\n",
    "\n",
    "clf = LogisticRegression()\n",
    "\n",
    "clf.fit(\n",
    "   X_train,\n",
    "   y_train,\n",
    ")\n",
    "lreg_pred = clf.predict(X_test)\n",
    "print(accuracy_score(y_test, lreg_pred))\n",
    "\n",
    "\n",
    "end = timer()\n",
    "\n",
    "print('time required',end-start)"
   ]
  },
  {
   "cell_type": "code",
   "execution_count": 25,
   "id": "5781a365",
   "metadata": {},
   "outputs": [
    {
     "name": "stdout",
     "output_type": "stream",
     "text": [
      "Support Vector Machine: ROC AUC=0.500\n"
     ]
    }
   ],
   "source": [
    "lreg_auc = roc_auc_score(y_test,lreg_pred)\n",
    "print('Support Vector Machine: ROC AUC=%.3f' % (lreg_auc))\n",
    "\n",
    "lreg_fpr, lreg_tpr, _ = roc_curve(y_test, lreg_pred)"
   ]
  },
  {
   "cell_type": "code",
   "execution_count": 26,
   "id": "f3d9c3c6",
   "metadata": {
    "scrolled": true
   },
   "outputs": [
    {
     "data": {
      "image/png": "[encoded data removed]",
      "text/plain": [
       "<Figure size 432x288 with 1 Axes>"
      ]
     },
     "metadata": {
      "needs_background": "light"
     },
     "output_type": "display_data"
    }
   ],
   "source": [
    "plt.plot(knn_fpr, knn_tpr, linestyle='--', label = 'KNN')\n",
    "plt.plot(rf_fpr, rf_tpr, linestyle='solid', label = 'RandomForest')\n",
    "plt.plot(NB_fpr, NB_tpr, linestyle='dashdot', label = 'NaiveBayes')\n",
    "plt.plot(svm_fpr, svm_tpr, linestyle=':', label = 'SupportVectorMachine')\n",
    "plt.plot(lreg_fpr, lreg_tpr, linestyle='dashed', label = 'LogisticRegression')\n",
    "\n",
    "\n",
    "# axis labels\n",
    "plt.xlabel('False Positive Rate')\n",
    "plt.ylabel('True Positive Rate')\n",
    "# show the legend\n",
    "plt.legend()\n",
    "# show the plot\n",
    "plt.show()"
   ]
  },
  {
   "cell_type": "code",
   "execution_count": 27,
   "id": "79b32ecc",
   "metadata": {},
   "outputs": [
    {
     "data": {
      "image/png": "[encoded data removed]",
      "text/plain": [
       "<Figure size 432x288 with 1 Axes>"
      ]
     },
     "metadata": {
      "needs_background": "light"
     },
     "output_type": "display_data"
    }
   ],
   "source": [
    "plt.plot(knn_fpr, knn_tpr, linestyle='--', label = 'KNN')\n",
    "\n",
    "\n",
    "\n",
    "# axis labels\n",
    "plt.xlabel('False Positive Rate')\n",
    "plt.ylabel('True Positive Rate')\n",
    "# show the legend\n",
    "plt.legend()\n",
    "# show the plot\n",
    "plt.show()"
   ]
  },
  {
   "cell_type": "code",
   "execution_count": 28,
   "id": "cc066a8a",
   "metadata": {},
   "outputs": [
    {
     "data": {
      "image/png": "[encoded data removed]",
      "text/plain": [
       "<Figure size 432x288 with 1 Axes>"
      ]
     },
     "metadata": {
      "needs_background": "light"
     },
     "output_type": "display_data"
    }
   ],
   "source": [
    "\n",
    "plt.plot(rf_fpr, rf_tpr, linestyle='solid', label = 'RandomForest')\n",
    "\n",
    "# axis labels\n",
    "plt.xlabel('False Positive Rate')\n",
    "plt.ylabel('True Positive Rate')\n",
    "# show the legend\n",
    "plt.legend()\n",
    "# show the plot\n",
    "plt.show()"
   ]
  },
  {
   "cell_type": "code",
   "execution_count": 29,
   "id": "8b0fe845",
   "metadata": {
    "scrolled": true
   },
   "outputs": [
    {
     "data": {
      "image/png": "[encoded data removed]",
      "text/plain": [
       "<Figure size 432x288 with 1 Axes>"
      ]
     },
     "metadata": {
      "needs_background": "light"
     },
     "output_type": "display_data"
    }
   ],
   "source": [
    "\n",
    "plt.plot(NB_fpr, NB_tpr, linestyle='dashdot', label = 'NaiveBayes')\n",
    "\n",
    "\n",
    "# axis labels\n",
    "plt.xlabel('False Positive Rate')\n",
    "plt.ylabel('True Positive Rate')\n",
    "# show the legend\n",
    "plt.legend()\n",
    "# show the plot\n",
    "plt.show()"
   ]
  },
  {
   "cell_type": "code",
   "execution_count": 30,
   "id": "81bcc99a",
   "metadata": {},
   "outputs": [
    {
     "data": {
      "image/png": "[encoded data removed]",
      "text/plain": [
       "<Figure size 432x288 with 1 Axes>"
      ]
     },
     "metadata": {
      "needs_background": "light"
     },
     "output_type": "display_data"
    }
   ],
   "source": [
    "\n",
    "plt.plot(svm_fpr, svm_tpr, linestyle=':', label = 'SupportVectorMachine')\n",
    "\n",
    "\n",
    "# axis labels\n",
    "plt.xlabel('False Positive Rate')\n",
    "plt.ylabel('True Positive Rate')\n",
    "# show the legend\n",
    "plt.legend()\n",
    "# show the plot\n",
    "plt.show()"
   ]
  },
  {
   "cell_type": "code",
   "execution_count": 31,
   "id": "7b550d1d",
   "metadata": {},
   "outputs": [
    {
     "data": {
      "image/png": "[encoded data removed]",
      "text/plain": [
       "<Figure size 432x288 with 1 Axes>"
      ]
     },
     "metadata": {
      "needs_background": "light"
     },
     "output_type": "display_data"
    }
   ],
   "source": [
    "\n",
    "plt.plot(lreg_fpr, lreg_tpr, linestyle='dashed', label = 'LogisticRegression')\n",
    "\n",
    "\n",
    "# axis labels\n",
    "plt.xlabel('False Positive Rate')\n",
    "plt.ylabel('True Positive Rate')\n",
    "# show the legend\n",
    "plt.legend()\n",
    "# show the plot\n",
    "plt.show()"
   ]
  },
  {
   "cell_type": "code",
   "execution_count": 32,
   "id": "6a17f1aa",
   "metadata": {
    "scrolled": true
   },
   "outputs": [
    {
     "name": "stdout",
     "output_type": "stream",
     "text": [
      "KNN classification report\n",
      "                   precision    recall  f1-score   support\n",
      "\n",
      "Price moving down       0.39      0.05      0.10       239\n",
      "  Price moving up       0.54      0.93      0.69       290\n",
      "\n",
      "         accuracy                           0.53       529\n",
      "        macro avg       0.47      0.49      0.39       529\n",
      "     weighted avg       0.48      0.53      0.42       529\n",
      "\n"
     ]
    }
   ],
   "source": [
    "target = ['Price moving down','Price moving up']\n",
    "\n",
    "from sklearn.metrics import confusion_matrix, classification_report\n",
    "print('KNN classification report')\n",
    "print(classification_report(y_test, knn_pred,target_names = target))"
   ]
  },
  {
   "cell_type": "code",
   "execution_count": 33,
   "id": "150545f7",
   "metadata": {
    "scrolled": false
   },
   "outputs": [
    {
     "name": "stdout",
     "output_type": "stream",
     "text": [
      "Random forest classification report\n",
      "                   precision    recall  f1-score   support\n",
      "\n",
      "Price moving down       0.46      0.94      0.61       239\n",
      "  Price moving up       0.61      0.08      0.13       290\n",
      "\n",
      "         accuracy                           0.47       529\n",
      "        macro avg       0.53      0.51      0.37       529\n",
      "     weighted avg       0.54      0.47      0.35       529\n",
      "\n"
     ]
    }
   ],
   "source": [
    "\n",
    "print('Random forest classification report')\n",
    "print(classification_report(y_test, rf_pred,target_names = target))"
   ]
  },
  {
   "cell_type": "code",
   "execution_count": 34,
   "id": "83b2486b",
   "metadata": {
    "scrolled": true
   },
   "outputs": [
    {
     "name": "stdout",
     "output_type": "stream",
     "text": [
      "Naive Bayes classification report\n",
      "              precision    recall  f1-score   support\n",
      "\n",
      "         1.0       0.55      1.00      0.71       290\n",
      "\n",
      "   micro avg       0.55      1.00      0.71       290\n",
      "   macro avg       0.55      1.00      0.71       290\n",
      "weighted avg       0.55      1.00      0.71       290\n",
      "\n"
     ]
    }
   ],
   "source": [
    "print('Naive Bayes classification report')\n",
    "print(classification_report(y_test, NB_pred,labels=np.unique(NB_pred)))"
   ]
  },
  {
   "cell_type": "code",
   "execution_count": 35,
   "id": "f7d549fe",
   "metadata": {},
   "outputs": [
    {
     "name": "stdout",
     "output_type": "stream",
     "text": [
      "SVM classification report\n",
      "                   precision    recall  f1-score   support\n",
      "\n",
      "Price moving down       0.45      0.91      0.60       239\n",
      "  Price moving up       0.51      0.08      0.13       290\n",
      "\n",
      "         accuracy                           0.45       529\n",
      "        macro avg       0.48      0.49      0.37       529\n",
      "     weighted avg       0.48      0.45      0.34       529\n",
      "\n"
     ]
    }
   ],
   "source": [
    "print('SVM classification report')\n",
    "print(classification_report(y_test, svm_pred, target_names = target))"
   ]
  },
  {
   "cell_type": "code",
   "execution_count": 36,
   "id": "4123c55a",
   "metadata": {
    "scrolled": true
   },
   "outputs": [
    {
     "name": "stdout",
     "output_type": "stream",
     "text": [
      "Logistic Regression classification report\n",
      "              precision    recall  f1-score   support\n",
      "\n",
      "         1.0       0.55      1.00      0.71       290\n",
      "\n",
      "   micro avg       0.55      1.00      0.71       290\n",
      "   macro avg       0.55      1.00      0.71       290\n",
      "weighted avg       0.55      1.00      0.71       290\n",
      "\n"
     ]
    }
   ],
   "source": [
    "print('Logistic Regression classification report')\n",
    "print(classification_report(y_test, lreg_pred, labels=np.unique(NB_pred)))"
   ]
  },
  {
   "cell_type": "code",
   "execution_count": 44,
   "id": "67f5ead3",
   "metadata": {},
   "outputs": [
    {
     "data": {
      "text/plain": [
       "array([[218,  21],\n",
       "       [268,  22]], dtype=int64)"
      ]
     },
     "execution_count": 44,
     "metadata": {},
     "output_type": "execute_result"
    }
   ],
   "source": [
    "confusion_matrix(y_test, svm_pred)"
   ]
  },
  {
   "cell_type": "code",
   "execution_count": 45,
   "id": "986415fb",
   "metadata": {},
   "outputs": [
    {
     "data": {
      "text/plain": [
       "array([[  0, 239],\n",
       "       [  0, 290]], dtype=int64)"
      ]
     },
     "execution_count": 45,
     "metadata": {},
     "output_type": "execute_result"
    }
   ],
   "source": [
    "confusion_matrix(y_test, lreg_pred)"
   ]
  },
  {
   "cell_type": "code",
   "execution_count": 46,
   "id": "5833ffea",
   "metadata": {},
   "outputs": [
    {
     "data": {
      "text/plain": [
       "array([[  0, 239],\n",
       "       [  0, 290]], dtype=int64)"
      ]
     },
     "execution_count": 46,
     "metadata": {},
     "output_type": "execute_result"
    }
   ],
   "source": [
    "confusion_matrix(y_test, NB_pred)"
   ]
  },
  {
   "cell_type": "code",
   "execution_count": 47,
   "id": "5933afb4",
   "metadata": {},
   "outputs": [
    {
     "data": {
      "text/plain": [
       "array([[225,  14],\n",
       "       [268,  22]], dtype=int64)"
      ]
     },
     "execution_count": 47,
     "metadata": {},
     "output_type": "execute_result"
    }
   ],
   "source": [
    "confusion_matrix(y_test, rf_pred)"
   ]
  },
  {
   "cell_type": "code",
   "execution_count": 48,
   "id": "d51b9abc",
   "metadata": {
    "scrolled": true
   },
   "outputs": [
    {
     "data": {
      "text/plain": [
       "array([[ 13, 226],\n",
       "       [ 20, 270]], dtype=int64)"
      ]
     },
     "execution_count": 48,
     "metadata": {},
     "output_type": "execute_result"
    }
   ],
   "source": [
    "confusion_matrix(y_test, knn_pred)"
   ]
  }
 ],
 "metadata": {
  "kernelspec": {
   "display_name": "Python 3 (ipykernel)",
   "language": "python",
   "name": "python3"
  },
  "language_info": {
   "codemirror_mode": {
    "name": "ipython",
    "version": 3
   },
   "file_extension": ".py",
   "mimetype": "text/x-python",
   "name": "python",
   "nbconvert_exporter": "python",
   "pygments_lexer": "ipython3",
   "version": "3.8.12"
  }
 },
 "nbformat": 4,
 "nbformat_minor": 5
}
