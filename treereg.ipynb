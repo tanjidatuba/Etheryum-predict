{
 "cells": [
  {
   "cell_type": "code",
   "execution_count": 1,
   "id": "a9931580",
   "metadata": {},
   "outputs": [],
   "source": [
    "# We'll be using Sklearn library for this task..\n",
    "from sklearn.linear_model import LinearRegression \n",
    "# pandas and numpy are used for data manipulation \n",
    "import pandas as pd \n",
    "import numpy as np \n",
    "# matplotlib and seaborn are used for plotting graphs \n",
    "import matplotlib.pyplot as plt \n",
    "import seaborn \n",
    "# fix_yahoo_finance is used to fetch data \n",
    "import yfinance as yf"
   ]
  },
  {
   "cell_type": "code",
   "execution_count": 2,
   "id": "396db119",
   "metadata": {},
   "outputs": [
    {
     "name": "stdout",
     "output_type": "stream",
     "text": [
      "[*********************100%***********************]  1 of 1 completed\n"
     ]
    },
    {
     "data": {
      "image/png": "[encoded data removed]",
      "text/plain": [
       "<Figure size 720x360 with 1 Axes>"
      ]
     },
     "metadata": {
      "needs_background": "light"
     },
     "output_type": "display_data"
    }
   ],
   "source": [
    "# Read data \n",
    "Df = yf.download('ETH-USD','2016-01-01','2022-03-31')\n",
    "# Only keep close columns \n",
    "Df=Df[['Close']] \n",
    "# Drop rows with missing values \n",
    "Df= Df.dropna() \n",
    "# Plot the closing price of GLD \n",
    "Df.Close.plot(figsize=(10,5)) \n",
    "plt.ylabel(\"ETH-USD Prices\")\n",
    "plt.show()"
   ]
  },
  {
   "cell_type": "code",
   "execution_count": 3,
   "id": "1107f28c",
   "metadata": {},
   "outputs": [
    {
     "name": "stdout",
     "output_type": "stream",
     "text": [
      "trainging days = (1604, 1)\n"
     ]
    }
   ],
   "source": [
    "print(\"trainging days =\",Df.shape)"
   ]
  },
  {
   "cell_type": "code",
   "execution_count": 4,
   "id": "0df8ad9a",
   "metadata": {},
   "outputs": [],
   "source": [
    "futureDays = 25"
   ]
  },
  {
   "cell_type": "code",
   "execution_count": 5,
   "id": "89e1ad4d",
   "metadata": {
    "scrolled": true
   },
   "outputs": [
    {
     "data": {
      "text/html": [
       "<div>\n",
       "<style scoped>\n",
       "    .dataframe tbody tr th:only-of-type {\n",
       "        vertical-align: middle;\n",
       "    }\n",
       "\n",
       "    .dataframe tbody tr th {\n",
       "        vertical-align: top;\n",
       "    }\n",
       "\n",
       "    .dataframe thead th {\n",
       "        text-align: right;\n",
       "    }\n",
       "</style>\n",
       "<table border=\"1\" class=\"dataframe\">\n",
       "  <thead>\n",
       "    <tr style=\"text-align: right;\">\n",
       "      <th></th>\n",
       "      <th>Close</th>\n",
       "    </tr>\n",
       "    <tr>\n",
       "      <th>Date</th>\n",
       "      <th></th>\n",
       "    </tr>\n",
       "  </thead>\n",
       "  <tbody>\n",
       "    <tr>\n",
       "      <th>2017-11-09</th>\n",
       "      <td>320.884003</td>\n",
       "    </tr>\n",
       "    <tr>\n",
       "      <th>2017-11-10</th>\n",
       "      <td>299.252991</td>\n",
       "    </tr>\n",
       "    <tr>\n",
       "      <th>2017-11-11</th>\n",
       "      <td>314.681000</td>\n",
       "    </tr>\n",
       "    <tr>\n",
       "      <th>2017-11-12</th>\n",
       "      <td>307.907990</td>\n",
       "    </tr>\n",
       "    <tr>\n",
       "      <th>2017-11-13</th>\n",
       "      <td>316.716003</td>\n",
       "    </tr>\n",
       "    <tr>\n",
       "      <th>...</th>\n",
       "      <td>...</td>\n",
       "    </tr>\n",
       "    <tr>\n",
       "      <th>2022-03-27</th>\n",
       "      <td>3291.577637</td>\n",
       "    </tr>\n",
       "    <tr>\n",
       "      <th>2022-03-28</th>\n",
       "      <td>3336.634521</td>\n",
       "    </tr>\n",
       "    <tr>\n",
       "      <th>2022-03-29</th>\n",
       "      <td>3401.987793</td>\n",
       "    </tr>\n",
       "    <tr>\n",
       "      <th>2022-03-30</th>\n",
       "      <td>3385.157959</td>\n",
       "    </tr>\n",
       "    <tr>\n",
       "      <th>2022-03-31</th>\n",
       "      <td>3281.642822</td>\n",
       "    </tr>\n",
       "  </tbody>\n",
       "</table>\n",
       "<p>1604 rows × 1 columns</p>\n",
       "</div>"
      ],
      "text/plain": [
       "                  Close\n",
       "Date                   \n",
       "2017-11-09   320.884003\n",
       "2017-11-10   299.252991\n",
       "2017-11-11   314.681000\n",
       "2017-11-12   307.907990\n",
       "2017-11-13   316.716003\n",
       "...                 ...\n",
       "2022-03-27  3291.577637\n",
       "2022-03-28  3336.634521\n",
       "2022-03-29  3401.987793\n",
       "2022-03-30  3385.157959\n",
       "2022-03-31  3281.642822\n",
       "\n",
       "[1604 rows x 1 columns]"
      ]
     },
     "execution_count": 5,
     "metadata": {},
     "output_type": "execute_result"
    }
   ],
   "source": [
    "Df"
   ]
  },
  {
   "cell_type": "code",
   "execution_count": 8,
   "id": "89c134ac",
   "metadata": {},
   "outputs": [
    {
     "data": {
      "text/html": [
       "<div>\n",
       "<style scoped>\n",
       "    .dataframe tbody tr th:only-of-type {\n",
       "        vertical-align: middle;\n",
       "    }\n",
       "\n",
       "    .dataframe tbody tr th {\n",
       "        vertical-align: top;\n",
       "    }\n",
       "\n",
       "    .dataframe thead th {\n",
       "        text-align: right;\n",
       "    }\n",
       "</style>\n",
       "<table border=\"1\" class=\"dataframe\">\n",
       "  <thead>\n",
       "    <tr style=\"text-align: right;\">\n",
       "      <th></th>\n",
       "      <th>Close</th>\n",
       "      <th>Prediction</th>\n",
       "    </tr>\n",
       "    <tr>\n",
       "      <th>Date</th>\n",
       "      <th></th>\n",
       "      <th></th>\n",
       "    </tr>\n",
       "  </thead>\n",
       "  <tbody>\n",
       "    <tr>\n",
       "      <th>2022-03-06</th>\n",
       "      <td>2555.037354</td>\n",
       "      <td>3281.642822</td>\n",
       "    </tr>\n",
       "    <tr>\n",
       "      <th>2022-03-07</th>\n",
       "      <td>2497.771240</td>\n",
       "      <td>NaN</td>\n",
       "    </tr>\n",
       "    <tr>\n",
       "      <th>2022-03-08</th>\n",
       "      <td>2576.747559</td>\n",
       "      <td>NaN</td>\n",
       "    </tr>\n",
       "    <tr>\n",
       "      <th>2022-03-09</th>\n",
       "      <td>2729.783447</td>\n",
       "      <td>NaN</td>\n",
       "    </tr>\n",
       "    <tr>\n",
       "      <th>2022-03-10</th>\n",
       "      <td>2608.048584</td>\n",
       "      <td>NaN</td>\n",
       "    </tr>\n",
       "    <tr>\n",
       "      <th>2022-03-11</th>\n",
       "      <td>2559.562988</td>\n",
       "      <td>NaN</td>\n",
       "    </tr>\n",
       "    <tr>\n",
       "      <th>2022-03-12</th>\n",
       "      <td>2574.754150</td>\n",
       "      <td>NaN</td>\n",
       "    </tr>\n",
       "    <tr>\n",
       "      <th>2022-03-13</th>\n",
       "      <td>2518.944580</td>\n",
       "      <td>NaN</td>\n",
       "    </tr>\n",
       "    <tr>\n",
       "      <th>2022-03-14</th>\n",
       "      <td>2590.696045</td>\n",
       "      <td>NaN</td>\n",
       "    </tr>\n",
       "    <tr>\n",
       "      <th>2022-03-15</th>\n",
       "      <td>2620.149658</td>\n",
       "      <td>NaN</td>\n",
       "    </tr>\n",
       "    <tr>\n",
       "      <th>2022-03-16</th>\n",
       "      <td>2772.055664</td>\n",
       "      <td>NaN</td>\n",
       "    </tr>\n",
       "    <tr>\n",
       "      <th>2022-03-17</th>\n",
       "      <td>2814.854492</td>\n",
       "      <td>NaN</td>\n",
       "    </tr>\n",
       "    <tr>\n",
       "      <th>2022-03-18</th>\n",
       "      <td>2945.343018</td>\n",
       "      <td>NaN</td>\n",
       "    </tr>\n",
       "    <tr>\n",
       "      <th>2022-03-19</th>\n",
       "      <td>2946.257080</td>\n",
       "      <td>NaN</td>\n",
       "    </tr>\n",
       "    <tr>\n",
       "      <th>2022-03-20</th>\n",
       "      <td>2860.459229</td>\n",
       "      <td>NaN</td>\n",
       "    </tr>\n",
       "    <tr>\n",
       "      <th>2022-03-21</th>\n",
       "      <td>2897.976562</td>\n",
       "      <td>NaN</td>\n",
       "    </tr>\n",
       "    <tr>\n",
       "      <th>2022-03-22</th>\n",
       "      <td>2973.131104</td>\n",
       "      <td>NaN</td>\n",
       "    </tr>\n",
       "    <tr>\n",
       "      <th>2022-03-23</th>\n",
       "      <td>3031.067139</td>\n",
       "      <td>NaN</td>\n",
       "    </tr>\n",
       "    <tr>\n",
       "      <th>2022-03-24</th>\n",
       "      <td>3108.062012</td>\n",
       "      <td>NaN</td>\n",
       "    </tr>\n",
       "    <tr>\n",
       "      <th>2022-03-25</th>\n",
       "      <td>3106.671387</td>\n",
       "      <td>NaN</td>\n",
       "    </tr>\n",
       "    <tr>\n",
       "      <th>2022-03-26</th>\n",
       "      <td>3143.178955</td>\n",
       "      <td>NaN</td>\n",
       "    </tr>\n",
       "    <tr>\n",
       "      <th>2022-03-27</th>\n",
       "      <td>3291.577637</td>\n",
       "      <td>NaN</td>\n",
       "    </tr>\n",
       "    <tr>\n",
       "      <th>2022-03-28</th>\n",
       "      <td>3336.634521</td>\n",
       "      <td>NaN</td>\n",
       "    </tr>\n",
       "    <tr>\n",
       "      <th>2022-03-29</th>\n",
       "      <td>3401.987793</td>\n",
       "      <td>NaN</td>\n",
       "    </tr>\n",
       "    <tr>\n",
       "      <th>2022-03-30</th>\n",
       "      <td>3385.157959</td>\n",
       "      <td>NaN</td>\n",
       "    </tr>\n",
       "    <tr>\n",
       "      <th>2022-03-31</th>\n",
       "      <td>3281.642822</td>\n",
       "      <td>NaN</td>\n",
       "    </tr>\n",
       "  </tbody>\n",
       "</table>\n",
       "</div>"
      ],
      "text/plain": [
       "                  Close   Prediction\n",
       "Date                                \n",
       "2022-03-06  2555.037354  3281.642822\n",
       "2022-03-07  2497.771240          NaN\n",
       "2022-03-08  2576.747559          NaN\n",
       "2022-03-09  2729.783447          NaN\n",
       "2022-03-10  2608.048584          NaN\n",
       "2022-03-11  2559.562988          NaN\n",
       "2022-03-12  2574.754150          NaN\n",
       "2022-03-13  2518.944580          NaN\n",
       "2022-03-14  2590.696045          NaN\n",
       "2022-03-15  2620.149658          NaN\n",
       "2022-03-16  2772.055664          NaN\n",
       "2022-03-17  2814.854492          NaN\n",
       "2022-03-18  2945.343018          NaN\n",
       "2022-03-19  2946.257080          NaN\n",
       "2022-03-20  2860.459229          NaN\n",
       "2022-03-21  2897.976562          NaN\n",
       "2022-03-22  2973.131104          NaN\n",
       "2022-03-23  3031.067139          NaN\n",
       "2022-03-24  3108.062012          NaN\n",
       "2022-03-25  3106.671387          NaN\n",
       "2022-03-26  3143.178955          NaN\n",
       "2022-03-27  3291.577637          NaN\n",
       "2022-03-28  3336.634521          NaN\n",
       "2022-03-29  3401.987793          NaN\n",
       "2022-03-30  3385.157959          NaN\n",
       "2022-03-31  3281.642822          NaN"
      ]
     },
     "execution_count": 8,
     "metadata": {},
     "output_type": "execute_result"
    }
   ],
   "source": [
    "Df.head(26)\n",
    "Df.tail(26)"
   ]
  },
  {
   "cell_type": "code",
   "execution_count": 6,
   "id": "920c2319",
   "metadata": {},
   "outputs": [],
   "source": [
    "Df[\"Prediction\"] = Df[[\"Close\"]].shift(-futureDays)\n"
   ]
  },
  {
   "cell_type": "code",
   "execution_count": 18,
   "id": "e4c78643",
   "metadata": {
    "scrolled": true
   },
   "outputs": [
    {
     "data": {
      "text/html": [
       "<div>\n",
       "<style scoped>\n",
       "    .dataframe tbody tr th:only-of-type {\n",
       "        vertical-align: middle;\n",
       "    }\n",
       "\n",
       "    .dataframe tbody tr th {\n",
       "        vertical-align: top;\n",
       "    }\n",
       "\n",
       "    .dataframe thead th {\n",
       "        text-align: right;\n",
       "    }\n",
       "</style>\n",
       "<table border=\"1\" class=\"dataframe\">\n",
       "  <thead>\n",
       "    <tr style=\"text-align: right;\">\n",
       "      <th></th>\n",
       "      <th>Close</th>\n",
       "      <th>Prediction</th>\n",
       "    </tr>\n",
       "    <tr>\n",
       "      <th>Date</th>\n",
       "      <th></th>\n",
       "      <th></th>\n",
       "    </tr>\n",
       "  </thead>\n",
       "  <tbody>\n",
       "    <tr>\n",
       "      <th>2022-03-06</th>\n",
       "      <td>2555.037354</td>\n",
       "      <td>3281.642822</td>\n",
       "    </tr>\n",
       "    <tr>\n",
       "      <th>2022-03-07</th>\n",
       "      <td>2497.771240</td>\n",
       "      <td>NaN</td>\n",
       "    </tr>\n",
       "    <tr>\n",
       "      <th>2022-03-08</th>\n",
       "      <td>2576.747559</td>\n",
       "      <td>NaN</td>\n",
       "    </tr>\n",
       "    <tr>\n",
       "      <th>2022-03-09</th>\n",
       "      <td>2729.783447</td>\n",
       "      <td>NaN</td>\n",
       "    </tr>\n",
       "    <tr>\n",
       "      <th>2022-03-10</th>\n",
       "      <td>2608.048584</td>\n",
       "      <td>NaN</td>\n",
       "    </tr>\n",
       "    <tr>\n",
       "      <th>2022-03-11</th>\n",
       "      <td>2559.562988</td>\n",
       "      <td>NaN</td>\n",
       "    </tr>\n",
       "    <tr>\n",
       "      <th>2022-03-12</th>\n",
       "      <td>2574.754150</td>\n",
       "      <td>NaN</td>\n",
       "    </tr>\n",
       "    <tr>\n",
       "      <th>2022-03-13</th>\n",
       "      <td>2518.944580</td>\n",
       "      <td>NaN</td>\n",
       "    </tr>\n",
       "    <tr>\n",
       "      <th>2022-03-14</th>\n",
       "      <td>2590.696045</td>\n",
       "      <td>NaN</td>\n",
       "    </tr>\n",
       "    <tr>\n",
       "      <th>2022-03-15</th>\n",
       "      <td>2620.149658</td>\n",
       "      <td>NaN</td>\n",
       "    </tr>\n",
       "    <tr>\n",
       "      <th>2022-03-16</th>\n",
       "      <td>2772.055664</td>\n",
       "      <td>NaN</td>\n",
       "    </tr>\n",
       "    <tr>\n",
       "      <th>2022-03-17</th>\n",
       "      <td>2814.854492</td>\n",
       "      <td>NaN</td>\n",
       "    </tr>\n",
       "    <tr>\n",
       "      <th>2022-03-18</th>\n",
       "      <td>2945.343018</td>\n",
       "      <td>NaN</td>\n",
       "    </tr>\n",
       "    <tr>\n",
       "      <th>2022-03-19</th>\n",
       "      <td>2946.257080</td>\n",
       "      <td>NaN</td>\n",
       "    </tr>\n",
       "    <tr>\n",
       "      <th>2022-03-20</th>\n",
       "      <td>2860.459229</td>\n",
       "      <td>NaN</td>\n",
       "    </tr>\n",
       "    <tr>\n",
       "      <th>2022-03-21</th>\n",
       "      <td>2897.976562</td>\n",
       "      <td>NaN</td>\n",
       "    </tr>\n",
       "    <tr>\n",
       "      <th>2022-03-22</th>\n",
       "      <td>2973.131104</td>\n",
       "      <td>NaN</td>\n",
       "    </tr>\n",
       "    <tr>\n",
       "      <th>2022-03-23</th>\n",
       "      <td>3031.067139</td>\n",
       "      <td>NaN</td>\n",
       "    </tr>\n",
       "    <tr>\n",
       "      <th>2022-03-24</th>\n",
       "      <td>3108.062012</td>\n",
       "      <td>NaN</td>\n",
       "    </tr>\n",
       "    <tr>\n",
       "      <th>2022-03-25</th>\n",
       "      <td>3106.671387</td>\n",
       "      <td>NaN</td>\n",
       "    </tr>\n",
       "    <tr>\n",
       "      <th>2022-03-26</th>\n",
       "      <td>3143.178955</td>\n",
       "      <td>NaN</td>\n",
       "    </tr>\n",
       "    <tr>\n",
       "      <th>2022-03-27</th>\n",
       "      <td>3291.577637</td>\n",
       "      <td>NaN</td>\n",
       "    </tr>\n",
       "    <tr>\n",
       "      <th>2022-03-28</th>\n",
       "      <td>3336.634521</td>\n",
       "      <td>NaN</td>\n",
       "    </tr>\n",
       "    <tr>\n",
       "      <th>2022-03-29</th>\n",
       "      <td>3401.987793</td>\n",
       "      <td>NaN</td>\n",
       "    </tr>\n",
       "    <tr>\n",
       "      <th>2022-03-30</th>\n",
       "      <td>3385.157959</td>\n",
       "      <td>NaN</td>\n",
       "    </tr>\n",
       "    <tr>\n",
       "      <th>2022-03-31</th>\n",
       "      <td>3281.642822</td>\n",
       "      <td>NaN</td>\n",
       "    </tr>\n",
       "  </tbody>\n",
       "</table>\n",
       "</div>"
      ],
      "text/plain": [
       "                  Close   Prediction\n",
       "Date                                \n",
       "2022-03-06  2555.037354  3281.642822\n",
       "2022-03-07  2497.771240          NaN\n",
       "2022-03-08  2576.747559          NaN\n",
       "2022-03-09  2729.783447          NaN\n",
       "2022-03-10  2608.048584          NaN\n",
       "2022-03-11  2559.562988          NaN\n",
       "2022-03-12  2574.754150          NaN\n",
       "2022-03-13  2518.944580          NaN\n",
       "2022-03-14  2590.696045          NaN\n",
       "2022-03-15  2620.149658          NaN\n",
       "2022-03-16  2772.055664          NaN\n",
       "2022-03-17  2814.854492          NaN\n",
       "2022-03-18  2945.343018          NaN\n",
       "2022-03-19  2946.257080          NaN\n",
       "2022-03-20  2860.459229          NaN\n",
       "2022-03-21  2897.976562          NaN\n",
       "2022-03-22  2973.131104          NaN\n",
       "2022-03-23  3031.067139          NaN\n",
       "2022-03-24  3108.062012          NaN\n",
       "2022-03-25  3106.671387          NaN\n",
       "2022-03-26  3143.178955          NaN\n",
       "2022-03-27  3291.577637          NaN\n",
       "2022-03-28  3336.634521          NaN\n",
       "2022-03-29  3401.987793          NaN\n",
       "2022-03-30  3385.157959          NaN\n",
       "2022-03-31  3281.642822          NaN"
      ]
     },
     "execution_count": 18,
     "metadata": {},
     "output_type": "execute_result"
    }
   ],
   "source": [
    "Df.tail(26)"
   ]
  },
  {
   "cell_type": "code",
   "execution_count": 9,
   "id": "80e32328",
   "metadata": {},
   "outputs": [
    {
     "name": "stdout",
     "output_type": "stream",
     "text": [
      "[[ 320.88400269]\n",
      " [ 299.25299072]\n",
      " [ 314.68099976]\n",
      " ...\n",
      " [2617.15600586]\n",
      " [2664.83105469]\n",
      " [2555.03735352]]\n"
     ]
    },
    {
     "name": "stderr",
     "output_type": "stream",
     "text": [
      "C:\\Users\\admin\\AppData\\Local\\Temp/ipykernel_19400/506403064.py:2: FutureWarning: In a future version of pandas all arguments of DataFrame.drop except for the argument 'labels' will be keyword-only\n",
      "  x = np.array(Df.drop([\"Prediction\"], 1))[:-futureDays]\n"
     ]
    }
   ],
   "source": [
    "#x is the close price from Df\n",
    "\n",
    "import numpy as np\n",
    "x = np.array(Df.drop([\"Prediction\"], 1))[:-futureDays]\n",
    "print(x)"
   ]
  },
  {
   "cell_type": "code",
   "execution_count": 15,
   "id": "91d0eeaf",
   "metadata": {},
   "outputs": [
    {
     "data": {
      "text/plain": [
       "array([ 470.20401001,  463.28100586,  428.5880127 , ..., 3401.98779297,\n",
       "       3385.15795898, 3281.64282227])"
      ]
     },
     "execution_count": 15,
     "metadata": {},
     "output_type": "execute_result"
    }
   ],
   "source": [
    "y"
   ]
  },
  {
   "cell_type": "code",
   "execution_count": 12,
   "id": "2400e7f4",
   "metadata": {},
   "outputs": [
    {
     "name": "stdout",
     "output_type": "stream",
     "text": [
      "[ 470.20401001  463.28100586  428.5880127  ... 3401.98779297 3385.15795898\n",
      " 3281.64282227]\n"
     ]
    }
   ],
   "source": [
    "#y is the rest of the close price\n",
    "y = np.array(Df[\"Prediction\"])[:-futureDays]\n",
    "print(y)"
   ]
  },
  {
   "cell_type": "code",
   "execution_count": null,
   "id": "485969e3",
   "metadata": {},
   "outputs": [],
   "source": [
    "x.shape"
   ]
  },
  {
   "cell_type": "markdown",
   "id": "581f7c7d",
   "metadata": {},
   "source": [
    "# train test split"
   ]
  },
  {
   "cell_type": "code",
   "execution_count": 19,
   "id": "407e2528",
   "metadata": {},
   "outputs": [],
   "source": [
    "from sklearn.model_selection import train_test_split\n",
    "xtrain, xtest, ytrain, ytest = train_test_split(x, y, test_size=0.25)"
   ]
  },
  {
   "cell_type": "code",
   "execution_count": 20,
   "id": "cefbd8a4",
   "metadata": {},
   "outputs": [],
   "source": [
    "# Creating the decision tree regressor model\n",
    "\n",
    "\n",
    "from sklearn.tree import DecisionTreeRegressor\n",
    "tree = DecisionTreeRegressor().fit(xtrain, ytrain)\n"
   ]
  },
  {
   "cell_type": "code",
   "execution_count": 22,
   "id": "851eb0f4",
   "metadata": {},
   "outputs": [],
   "source": [
    "# creating the Linear Regression model\n",
    "\n",
    "\n",
    "from sklearn.linear_model import LinearRegression\n",
    "linear = LinearRegression().fit(xtrain, ytrain)"
   ]
  },
  {
   "cell_type": "code",
   "execution_count": 23,
   "id": "02083246",
   "metadata": {},
   "outputs": [
    {
     "name": "stderr",
     "output_type": "stream",
     "text": [
      "C:\\Users\\admin\\AppData\\Local\\Temp/ipykernel_19400/2900493697.py:1: FutureWarning: In a future version of pandas all arguments of DataFrame.drop except for the argument 'labels' will be keyword-only\n",
      "  xfuture = Df.drop([\"Prediction\"], 1)[:-futureDays]\n"
     ]
    }
   ],
   "source": [
    "xfuture = Df.drop([\"Prediction\"], 1)[:-futureDays]"
   ]
  },
  {
   "cell_type": "code",
   "execution_count": 27,
   "id": "5e118f96",
   "metadata": {},
   "outputs": [
    {
     "data": {
      "text/plain": [
       "(25, 1)"
      ]
     },
     "execution_count": 27,
     "metadata": {},
     "output_type": "execute_result"
    }
   ],
   "source": [
    "xfuture.shape"
   ]
  },
  {
   "cell_type": "code",
   "execution_count": 25,
   "id": "a882b3d5",
   "metadata": {},
   "outputs": [],
   "source": [
    "#taking the last 25 days of data\n",
    "xfuture = xfuture.tail(futureDays)\n"
   ]
  },
  {
   "cell_type": "code",
   "execution_count": null,
   "id": "b0c7cd2c",
   "metadata": {},
   "outputs": [],
   "source": [
    "xfuture.shape"
   ]
  },
  {
   "cell_type": "code",
   "execution_count": 28,
   "id": "054ee71f",
   "metadata": {},
   "outputs": [],
   "source": [
    "\n",
    "xfuture = np.array(xfuture)"
   ]
  },
  {
   "cell_type": "code",
   "execution_count": 29,
   "id": "4e5c7abb",
   "metadata": {},
   "outputs": [
    {
     "name": "stdout",
     "output_type": "stream",
     "text": [
      "[[3077.48217773]\n",
      " [2927.38354492]\n",
      " [2917.36279297]\n",
      " [2883.46337891]\n",
      " [2933.47900391]\n",
      " [3179.87719727]\n",
      " [3127.83007812]\n",
      " [2881.48193359]\n",
      " [2785.72753906]\n",
      " [2763.70117188]\n",
      " [2628.6484375 ]\n",
      " [2573.81616211]\n",
      " [2639.29931641]\n",
      " [2590.35961914]\n",
      " [2598.06713867]\n",
      " [2764.53564453]\n",
      " [2781.11181641]\n",
      " [2621.80175781]\n",
      " [2919.20117188]\n",
      " [2972.48510742]\n",
      " [2950.1184082 ]\n",
      " [2834.46899414]\n",
      " [2617.15600586]\n",
      " [2664.83105469]\n",
      " [2555.03735352]]\n"
     ]
    }
   ],
   "source": [
    "#To get the last ‘x’ rows/days of the feature dataset:\n",
    "\n",
    "print(xfuture)"
   ]
  },
  {
   "cell_type": "code",
   "execution_count": 30,
   "id": "045d5652",
   "metadata": {
    "scrolled": true
   },
   "outputs": [
    {
     "name": "stdout",
     "output_type": "stream",
     "text": [
      "Decision Tree prediction = [2682.85400391 2576.74755859 3106.67138672 2608.04858398 2559.56298828\n",
      " 2574.75415039 2518.94458008 2608.04858398 2620.1496582  2772.05566406\n",
      " 2814.85449219 2945.34301758 2946.25708008 2860.45922852 2897.9765625\n",
      " 2973.13110352 3031.06713867 3108.06201172 3106.67138672 3143.17895508\n",
      " 3291.57763672 3336.63452148 3401.98779297 3385.15795898 3281.64282227]\n"
     ]
    }
   ],
   "source": [
    "treePrediction = tree.predict(xfuture)\n",
    "print(\"Decision Tree prediction =\",treePrediction)"
   ]
  },
  {
   "cell_type": "code",
   "execution_count": 42,
   "id": "d01b2325",
   "metadata": {},
   "outputs": [],
   "source": [
    "tpredictions = treePrediction"
   ]
  },
  {
   "cell_type": "code",
   "execution_count": 43,
   "id": "19e2d83f",
   "metadata": {
    "scrolled": true
   },
   "outputs": [
    {
     "data": {
      "text/plain": [
       "array([2682.85400391, 2576.74755859, 3106.67138672, 2608.04858398,\n",
       "       2559.56298828, 2574.75415039, 2518.94458008, 2608.04858398,\n",
       "       2620.1496582 , 2772.05566406, 2814.85449219, 2945.34301758,\n",
       "       2946.25708008, 2860.45922852, 2897.9765625 , 2973.13110352,\n",
       "       3031.06713867, 3108.06201172, 3106.67138672, 3143.17895508,\n",
       "       3291.57763672, 3336.63452148, 3401.98779297, 3385.15795898,\n",
       "       3281.64282227])"
      ]
     },
     "execution_count": 43,
     "metadata": {},
     "output_type": "execute_result"
    }
   ],
   "source": [
    "tpredictions"
   ]
  },
  {
   "cell_type": "code",
   "execution_count": 37,
   "id": "42f66cf4",
   "metadata": {},
   "outputs": [
    {
     "data": {
      "text/plain": [
       "1579"
      ]
     },
     "execution_count": 37,
     "metadata": {},
     "output_type": "execute_result"
    }
   ],
   "source": [
    "x.shape[0]"
   ]
  },
  {
   "cell_type": "code",
   "execution_count": 44,
   "id": "7ec7d623",
   "metadata": {},
   "outputs": [],
   "source": [
    "#that means we are trying to capture the last 25 of the x\n",
    "\n",
    "valid = Df[1579:]"
   ]
  },
  {
   "cell_type": "code",
   "execution_count": 45,
   "id": "7bcb00e9",
   "metadata": {
    "scrolled": true
   },
   "outputs": [
    {
     "data": {
      "text/html": [
       "<div>\n",
       "<style scoped>\n",
       "    .dataframe tbody tr th:only-of-type {\n",
       "        vertical-align: middle;\n",
       "    }\n",
       "\n",
       "    .dataframe tbody tr th {\n",
       "        vertical-align: top;\n",
       "    }\n",
       "\n",
       "    .dataframe thead th {\n",
       "        text-align: right;\n",
       "    }\n",
       "</style>\n",
       "<table border=\"1\" class=\"dataframe\">\n",
       "  <thead>\n",
       "    <tr style=\"text-align: right;\">\n",
       "      <th></th>\n",
       "      <th>Close</th>\n",
       "      <th>Prediction</th>\n",
       "    </tr>\n",
       "    <tr>\n",
       "      <th>Date</th>\n",
       "      <th></th>\n",
       "      <th></th>\n",
       "    </tr>\n",
       "  </thead>\n",
       "  <tbody>\n",
       "    <tr>\n",
       "      <th>2022-03-07</th>\n",
       "      <td>2497.771240</td>\n",
       "      <td>NaN</td>\n",
       "    </tr>\n",
       "    <tr>\n",
       "      <th>2022-03-08</th>\n",
       "      <td>2576.747559</td>\n",
       "      <td>NaN</td>\n",
       "    </tr>\n",
       "    <tr>\n",
       "      <th>2022-03-09</th>\n",
       "      <td>2729.783447</td>\n",
       "      <td>NaN</td>\n",
       "    </tr>\n",
       "    <tr>\n",
       "      <th>2022-03-10</th>\n",
       "      <td>2608.048584</td>\n",
       "      <td>NaN</td>\n",
       "    </tr>\n",
       "    <tr>\n",
       "      <th>2022-03-11</th>\n",
       "      <td>2559.562988</td>\n",
       "      <td>NaN</td>\n",
       "    </tr>\n",
       "    <tr>\n",
       "      <th>2022-03-12</th>\n",
       "      <td>2574.754150</td>\n",
       "      <td>NaN</td>\n",
       "    </tr>\n",
       "    <tr>\n",
       "      <th>2022-03-13</th>\n",
       "      <td>2518.944580</td>\n",
       "      <td>NaN</td>\n",
       "    </tr>\n",
       "    <tr>\n",
       "      <th>2022-03-14</th>\n",
       "      <td>2590.696045</td>\n",
       "      <td>NaN</td>\n",
       "    </tr>\n",
       "    <tr>\n",
       "      <th>2022-03-15</th>\n",
       "      <td>2620.149658</td>\n",
       "      <td>NaN</td>\n",
       "    </tr>\n",
       "    <tr>\n",
       "      <th>2022-03-16</th>\n",
       "      <td>2772.055664</td>\n",
       "      <td>NaN</td>\n",
       "    </tr>\n",
       "    <tr>\n",
       "      <th>2022-03-17</th>\n",
       "      <td>2814.854492</td>\n",
       "      <td>NaN</td>\n",
       "    </tr>\n",
       "    <tr>\n",
       "      <th>2022-03-18</th>\n",
       "      <td>2945.343018</td>\n",
       "      <td>NaN</td>\n",
       "    </tr>\n",
       "    <tr>\n",
       "      <th>2022-03-19</th>\n",
       "      <td>2946.257080</td>\n",
       "      <td>NaN</td>\n",
       "    </tr>\n",
       "    <tr>\n",
       "      <th>2022-03-20</th>\n",
       "      <td>2860.459229</td>\n",
       "      <td>NaN</td>\n",
       "    </tr>\n",
       "    <tr>\n",
       "      <th>2022-03-21</th>\n",
       "      <td>2897.976562</td>\n",
       "      <td>NaN</td>\n",
       "    </tr>\n",
       "    <tr>\n",
       "      <th>2022-03-22</th>\n",
       "      <td>2973.131104</td>\n",
       "      <td>NaN</td>\n",
       "    </tr>\n",
       "    <tr>\n",
       "      <th>2022-03-23</th>\n",
       "      <td>3031.067139</td>\n",
       "      <td>NaN</td>\n",
       "    </tr>\n",
       "    <tr>\n",
       "      <th>2022-03-24</th>\n",
       "      <td>3108.062012</td>\n",
       "      <td>NaN</td>\n",
       "    </tr>\n",
       "    <tr>\n",
       "      <th>2022-03-25</th>\n",
       "      <td>3106.671387</td>\n",
       "      <td>NaN</td>\n",
       "    </tr>\n",
       "    <tr>\n",
       "      <th>2022-03-26</th>\n",
       "      <td>3143.178955</td>\n",
       "      <td>NaN</td>\n",
       "    </tr>\n",
       "    <tr>\n",
       "      <th>2022-03-27</th>\n",
       "      <td>3291.577637</td>\n",
       "      <td>NaN</td>\n",
       "    </tr>\n",
       "    <tr>\n",
       "      <th>2022-03-28</th>\n",
       "      <td>3336.634521</td>\n",
       "      <td>NaN</td>\n",
       "    </tr>\n",
       "    <tr>\n",
       "      <th>2022-03-29</th>\n",
       "      <td>3401.987793</td>\n",
       "      <td>NaN</td>\n",
       "    </tr>\n",
       "    <tr>\n",
       "      <th>2022-03-30</th>\n",
       "      <td>3385.157959</td>\n",
       "      <td>NaN</td>\n",
       "    </tr>\n",
       "    <tr>\n",
       "      <th>2022-03-31</th>\n",
       "      <td>3281.642822</td>\n",
       "      <td>NaN</td>\n",
       "    </tr>\n",
       "  </tbody>\n",
       "</table>\n",
       "</div>"
      ],
      "text/plain": [
       "                  Close  Prediction\n",
       "Date                               \n",
       "2022-03-07  2497.771240         NaN\n",
       "2022-03-08  2576.747559         NaN\n",
       "2022-03-09  2729.783447         NaN\n",
       "2022-03-10  2608.048584         NaN\n",
       "2022-03-11  2559.562988         NaN\n",
       "2022-03-12  2574.754150         NaN\n",
       "2022-03-13  2518.944580         NaN\n",
       "2022-03-14  2590.696045         NaN\n",
       "2022-03-15  2620.149658         NaN\n",
       "2022-03-16  2772.055664         NaN\n",
       "2022-03-17  2814.854492         NaN\n",
       "2022-03-18  2945.343018         NaN\n",
       "2022-03-19  2946.257080         NaN\n",
       "2022-03-20  2860.459229         NaN\n",
       "2022-03-21  2897.976562         NaN\n",
       "2022-03-22  2973.131104         NaN\n",
       "2022-03-23  3031.067139         NaN\n",
       "2022-03-24  3108.062012         NaN\n",
       "2022-03-25  3106.671387         NaN\n",
       "2022-03-26  3143.178955         NaN\n",
       "2022-03-27  3291.577637         NaN\n",
       "2022-03-28  3336.634521         NaN\n",
       "2022-03-29  3401.987793         NaN\n",
       "2022-03-30  3385.157959         NaN\n",
       "2022-03-31  3281.642822         NaN"
      ]
     },
     "execution_count": 45,
     "metadata": {},
     "output_type": "execute_result"
    }
   ],
   "source": [
    "valid"
   ]
  },
  {
   "cell_type": "code",
   "execution_count": null,
   "id": "54d6873c",
   "metadata": {
    "scrolled": true
   },
   "outputs": [],
   "source": [
    "Df"
   ]
  },
  {
   "cell_type": "code",
   "execution_count": 46,
   "id": "7dda34dd",
   "metadata": {
    "scrolled": true
   },
   "outputs": [
    {
     "name": "stderr",
     "output_type": "stream",
     "text": [
      "C:\\Users\\admin\\AppData\\Local\\Temp/ipykernel_19400/3468437286.py:1: SettingWithCopyWarning: \n",
      "A value is trying to be set on a copy of a slice from a DataFrame.\n",
      "Try using .loc[row_indexer,col_indexer] = value instead\n",
      "\n",
      "See the caveats in the documentation: https://pandas.pydata.org/pandas-docs/stable/user_guide/indexing.html#returning-a-view-versus-a-copy\n",
      "  valid[\"Predictions\"] = tpredictions\n"
     ]
    }
   ],
   "source": [
    "valid[\"Predictions\"] = tpredictions"
   ]
  },
  {
   "cell_type": "code",
   "execution_count": 47,
   "id": "db577297",
   "metadata": {
    "scrolled": true
   },
   "outputs": [
    {
     "data": {
      "text/plain": [
       "[<matplotlib.lines.Line2D at 0x1ff3d2f1220>]"
      ]
     },
     "execution_count": 47,
     "metadata": {},
     "output_type": "execute_result"
    },
    {
     "data": {
      "image/png": "[encoded data removed]",
      "text/plain": [
       "<Figure size 432x288 with 1 Axes>"
      ]
     },
     "metadata": {
      "needs_background": "light"
     },
     "output_type": "display_data"
    }
   ],
   "source": [
    "plt.plot(Df[\"Close\"])"
   ]
  },
  {
   "cell_type": "code",
   "execution_count": 48,
   "id": "df5150b9",
   "metadata": {
    "scrolled": true
   },
   "outputs": [
    {
     "data": {
      "text/plain": [
       "[<matplotlib.lines.Line2D at 0x1ff3d66f7c0>,\n",
       " <matplotlib.lines.Line2D at 0x1ff3cefe430>]"
      ]
     },
     "execution_count": 48,
     "metadata": {},
     "output_type": "execute_result"
    },
    {
     "data": {
      "image/png": "[encoded data removed]",
      "text/plain": [
       "<Figure size 432x288 with 1 Axes>"
      ]
     },
     "metadata": {
      "needs_background": "light"
     },
     "output_type": "display_data"
    }
   ],
   "source": [
    "plt.plot(valid[[\"Close\", \"Predictions\"]])"
   ]
  },
  {
   "cell_type": "code",
   "execution_count": null,
   "id": "b5a5956b",
   "metadata": {},
   "outputs": [],
   "source": [
    "valid"
   ]
  },
  {
   "cell_type": "code",
   "execution_count": 49,
   "id": "c4f0e7da",
   "metadata": {},
   "outputs": [
    {
     "data": {
      "image/png": "[encoded data removed]",
      "text/plain": [
       "<Figure size 720x432 with 1 Axes>"
      ]
     },
     "metadata": {
      "needs_background": "light"
     },
     "output_type": "display_data"
    }
   ],
   "source": [
    "\n",
    "plt.figure(figsize=(10, 6))\n",
    "plt.title(\"ETH-USD's Stock Price Prediction Model(Decision Tree Regressor Model)\")\n",
    "plt.xlabel(\"Days\")\n",
    "plt.ylabel(\"Close Price USD ($)\")\n",
    "\n",
    "\n",
    "plt.plot(Df[\"Close\"])\n",
    "plt.plot(valid[[\"Close\", \"Predictions\"]])\n",
    "plt.legend([\"Original\", \"Valid\", \"Predictions\"])\n",
    "plt.show()"
   ]
  },
  {
   "cell_type": "code",
   "execution_count": 50,
   "id": "545ff271",
   "metadata": {},
   "outputs": [
    {
     "name": "stdout",
     "output_type": "stream",
     "text": [
      "Linear regression Prediction = [3076.73310507 2929.74621813 2919.9332098  2886.73657604 2935.71531008\n",
      " 3177.00533858 3126.03722599 2884.79620874 2791.02693118 2769.45720011\n",
      " 2637.20428997 2583.50876115 2647.63436187 2599.70925014 2607.25698246\n",
      " 2770.27437303 2786.50689864 2630.49955113 2921.73347665 2973.91276478\n",
      " 2952.00975722 2838.75791055 2625.95011184 2672.63679299 2565.11926243]\n"
     ]
    }
   ],
   "source": [
    "linearPrediction = linear.predict(xfuture)\n",
    "print(\"Linear regression Prediction =\",linearPrediction)"
   ]
  },
  {
   "cell_type": "code",
   "execution_count": 52,
   "id": "cd2f3050",
   "metadata": {},
   "outputs": [
    {
     "name": "stderr",
     "output_type": "stream",
     "text": [
      "C:\\Users\\admin\\AppData\\Local\\Temp/ipykernel_19400/1922476404.py:3: SettingWithCopyWarning: \n",
      "A value is trying to be set on a copy of a slice from a DataFrame.\n",
      "Try using .loc[row_indexer,col_indexer] = value instead\n",
      "\n",
      "See the caveats in the documentation: https://pandas.pydata.org/pandas-docs/stable/user_guide/indexing.html#returning-a-view-versus-a-copy\n",
      "  valid[\"LPredictions\"] = Lpredictions\n"
     ]
    },
    {
     "data": {
      "image/png": "[encoded data removed]",
      "text/plain": [
       "<Figure size 720x432 with 1 Axes>"
      ]
     },
     "metadata": {
      "needs_background": "light"
     },
     "output_type": "display_data"
    }
   ],
   "source": [
    "Lpredictions = linearPrediction\n",
    "valid = Df[x.shape[0]:]\n",
    "valid[\"LPredictions\"] = Lpredictions\n",
    "plt.figure(figsize=(10, 6))\n",
    "plt.title(\"ETH-USD's Stock Price Prediction Model(Linear Regression Model)\")\n",
    "plt.xlabel(\"Days\")\n",
    "plt.ylabel(\"Close Price USD ($)\")\n",
    "plt.plot(Df[\"Close\"])\n",
    "plt.plot(valid[[\"Close\", \"LPredictions\"]])\n",
    "plt.legend([\"Original\", \"Valid\", \"LPredictions\"])\n",
    "plt.show()"
   ]
  },
  {
   "cell_type": "code",
   "execution_count": null,
   "id": "329c8d92",
   "metadata": {},
   "outputs": [],
   "source": []
  }
 ],
 "metadata": {
  "kernelspec": {
   "display_name": "Python 3 (ipykernel)",
   "language": "python",
   "name": "python3"
  },
  "language_info": {
   "codemirror_mode": {
    "name": "ipython",
    "version": 3
   },
   "file_extension": ".py",
   "mimetype": "text/x-python",
   "name": "python",
   "nbconvert_exporter": "python",
   "pygments_lexer": "ipython3",
   "version": "3.9.7"
  }
 },
 "nbformat": 4,
 "nbformat_minor": 5
}
